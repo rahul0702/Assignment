{
 "cells": [
  {
   "cell_type": "raw",
   "id": "311d45ae-a809-47e6-b49b-ea4db613c05a",
   "metadata": {},
   "source": [
    "RAHUL SHARMA\n",
    "PYTHON TASK : 1\n",
    "06 FEBRAURY 2023"
   ]
  },
  {
   "cell_type": "markdown",
   "id": "1ae7a7dd-0d34-4c23-b4e2-b14924d1199e",
   "metadata": {},
   "source": [
    "ANSWER 1:"
   ]
  },
  {
   "cell_type": "code",
   "execution_count": 3,
   "id": "533d8cf5-9760-4ca3-8b9f-96423f105de8",
   "metadata": {},
   "outputs": [
    {
     "name": "stdout",
     "output_type": "stream",
     "text": [
      "Product of all numbers in the flattened list: 0\n"
     ]
    }
   ],
   "source": [
    "def flatten_list(lst):\n",
    "    flattened = []\n",
    "    for item in lst:\n",
    "        if isinstance(item, (list, tuple, set)):\n",
    "            flattened.extend(flatten_list(item))\n",
    "        elif isinstance(item, dict):\n",
    "            flattened.extend(flatten_list(list(item.values())))\n",
    "        elif isinstance(item, (int, float)):\n",
    "            flattened.append(item)\n",
    "    return flattened\n",
    "\n",
    "def product_of_numbers(lst):\n",
    "    flat_list = flatten_list(lst)\n",
    "    product = 1\n",
    "    for num in flat_list:\n",
    "        if isinstance(num, (int, float)):\n",
    "            product *= num\n",
    "    return product\n",
    "\n",
    "list1 = [1,2,3,4, [44,55,66, True], False, (34,56,78,89,34), {1,2,3,3,2,1}, {1:34, \"key2\": [55, 67, 78, 89], 4: (45, 22, 61, 34)}, [56, 'data science'], 'Machine Learning']\n",
    "\n",
    "result = product_of_numbers(list1)\n",
    "print(\"Product of all numbers in the flattened list:\", result)\n"
   ]
  },
  {
   "cell_type": "markdown",
   "id": "06c72cdb-1871-4e51-bbf4-6bc0c4a51024",
   "metadata": {},
   "source": [
    "ANSWER 2 :"
   ]
  },
  {
   "cell_type": "code",
   "execution_count": 4,
   "id": "d72cf779-9afa-4a86-8c42-ec9b53934e20",
   "metadata": {},
   "outputs": [
    {
     "name": "stdout",
     "output_type": "stream",
     "text": [
      "Encrypted message: r$dzmg$gl$yvxlnv$z$wzgz$hxrvmgrhg.\n"
     ]
    }
   ],
   "source": [
    "def encrypt_message(message):\n",
    "    encrypted_message = \"\"\n",
    "    for char in message:\n",
    "        if char.isalpha():\n",
    "            encrypted_char = chr(122 - (ord(char) - 97))\n",
    "            encrypted_message += encrypted_char\n",
    "        elif char.isspace():\n",
    "            encrypted_message += \"$\"\n",
    "        else:\n",
    "            encrypted_message += char\n",
    "    return encrypted_message\n",
    "\n",
    "# Input sentence\n",
    "input_sentence = \"I want to become a Data Scientist.\"\n",
    "\n",
    "# Convert to lowercase\n",
    "input_sentence = input_sentence.lower()\n",
    "\n",
    "# Encrypt the message\n",
    "encrypted_sentence = encrypt_message(input_sentence)\n",
    "\n",
    "print(\"Encrypted message:\", encrypted_sentence)\n"
   ]
  },
  {
   "cell_type": "code",
   "execution_count": null,
   "id": "e5110db7-b2e2-4ec6-b278-f6352f53851f",
   "metadata": {},
   "outputs": [],
   "source": []
  }
 ],
 "metadata": {
  "kernelspec": {
   "display_name": "Python 3 (ipykernel)",
   "language": "python",
   "name": "python3"
  },
  "language_info": {
   "codemirror_mode": {
    "name": "ipython",
    "version": 3
   },
   "file_extension": ".py",
   "mimetype": "text/x-python",
   "name": "python",
   "nbconvert_exporter": "python",
   "pygments_lexer": "ipython3",
   "version": "3.11.7"
  }
 },
 "nbformat": 4,
 "nbformat_minor": 5
}
