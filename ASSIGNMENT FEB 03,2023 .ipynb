{
 "cells": [
  {
   "cell_type": "markdown",
   "id": "067f60ee-e8df-424c-a713-5477d6768061",
   "metadata": {},
   "source": [
    "Rahul sharma\n",
    "Assignment : 03/02/2023"
   ]
  },
  {
   "cell_type": "markdown",
   "id": "037f4a1b-6b52-46ea-af43-318b7f9061c5",
   "metadata": {},
   "source": [
    "ANSWER 1 :"
   ]
  },
  {
   "cell_type": "markdown",
   "id": "6057abff-c569-4b2b-9b3f-b1309e21ac2e",
   "metadata": {},
   "source": [
    "Use of For Loop :\n",
    "                In python for loop is used to iterate over a sequence (such as a list, tuple, string etc) or any iterable objects.\n",
    "It executes a block of code once for each item in the sequence."
   ]
  },
  {
   "cell_type": "markdown",
   "id": "7a94b651-b7ee-452f-b702-ccaf17e2865f",
   "metadata": {},
   "source": [
    "Example 1: Iterating over a list"
   ]
  },
  {
   "cell_type": "code",
   "execution_count": 1,
   "id": "58781b51-51c6-4fd4-8612-9b3a679d0a46",
   "metadata": {},
   "outputs": [
    {
     "name": "stdout",
     "output_type": "stream",
     "text": [
      "25\n",
      "35\n",
      "45\n",
      "55\n",
      "65\n"
     ]
    }
   ],
   "source": [
    "l= [25,35,45,55,65]\n",
    "for i in l :\n",
    "    print(i)"
   ]
  },
  {
   "cell_type": "markdown",
   "id": "aec68051-d097-46b2-9234-40278f85e2e9",
   "metadata": {},
   "source": [
    "Use of while loop :\n",
    "                   in python while loop is used to repeatedly execute a block of code as long as a specified \n",
    "condition is true.\n",
    "it continues iterating until the condition becomes false."
   ]
  },
  {
   "cell_type": "markdown",
   "id": "a807ff45-9a12-49d1-adb9-b408689b56b7",
   "metadata": {},
   "source": [
    "Example 1:"
   ]
  },
  {
   "cell_type": "code",
   "execution_count": 3,
   "id": "23f33184-9163-4f87-bf2e-a88c67173f2a",
   "metadata": {},
   "outputs": [
    {
     "name": "stdout",
     "output_type": "stream",
     "text": [
      "2\n",
      "4\n",
      "6\n",
      "8\n",
      "10\n",
      "12\n",
      "14\n",
      "16\n",
      "18\n",
      "20\n"
     ]
    }
   ],
   "source": [
    "a = 2\n",
    "while a <= 20 :\n",
    "    print (a)\n",
    "    a = a+2"
   ]
  },
  {
   "cell_type": "markdown",
   "id": "7cdd645a-d011-4404-9124-d210949402ed",
   "metadata": {},
   "source": [
    "Example 2 :Calculating factorial using a while loop"
   ]
  },
  {
   "cell_type": "code",
   "execution_count": 10,
   "id": "6db82d93-6a91-4a24-9f5e-e3f12a63b9ca",
   "metadata": {},
   "outputs": [
    {
     "name": "stdin",
     "output_type": "stream",
     "text": [
      "enter your number 5\n"
     ]
    },
    {
     "data": {
      "text/plain": [
       "120"
      ]
     },
     "execution_count": 10,
     "metadata": {},
     "output_type": "execute_result"
    }
   ],
   "source": [
    "number = int(input('enter your number'))\n",
    "factorial = 1\n",
    "\n",
    "while number > 0:\n",
    "    factorial = factorial*number\n",
    "    number = number-1\n",
    "\n",
    "factorial\n"
   ]
  },
  {
   "cell_type": "code",
   "execution_count": null,
   "id": "8b9bbc7c-0c29-4215-8b0c-77126664f0ad",
   "metadata": {},
   "outputs": [],
   "source": []
  },
  {
   "cell_type": "markdown",
   "id": "a1360309-b9d1-430c-8cd2-52f8d7d5833f",
   "metadata": {},
   "source": [
    "ANSWER 2:"
   ]
  },
  {
   "cell_type": "code",
   "execution_count": 11,
   "id": "5ac9627f-c945-4af6-a6bd-c8a99e9e8efc",
   "metadata": {},
   "outputs": [],
   "source": [
    "#Using for loop"
   ]
  },
  {
   "cell_type": "code",
   "execution_count": 6,
   "id": "7adf29a5-2dfa-4703-bed2-381e40c86a6c",
   "metadata": {},
   "outputs": [
    {
     "name": "stdout",
     "output_type": "stream",
     "text": [
      "sum of the first 10 natural numbers: 55\n"
     ]
    }
   ],
   "source": [
    "sum_natural_no = 0\n",
    "for i in range (1,11):\n",
    "    sum_natural_no = sum_natural_no + i\n",
    "    \n",
    "print ('sum of the first 10 natural numbers:',sum_natural_no)"
   ]
  },
  {
   "cell_type": "code",
   "execution_count": null,
   "id": "bd3b7d82-a913-4415-b50d-ea116d50e110",
   "metadata": {},
   "outputs": [],
   "source": []
  },
  {
   "cell_type": "code",
   "execution_count": 7,
   "id": "74af9418-ca9e-45b4-b0f8-d341caa30d19",
   "metadata": {},
   "outputs": [
    {
     "name": "stdout",
     "output_type": "stream",
     "text": [
      "product  of the first 10 natural numbers: 3628800\n"
     ]
    }
   ],
   "source": [
    "product_natural_no = 1\n",
    "\n",
    "for i in range (1,11):\n",
    "    \n",
    "    product_natural_no = product_natural_no * i\n",
    "print ('product  of the first 10 natural numbers:',product_natural_no)"
   ]
  },
  {
   "cell_type": "code",
   "execution_count": null,
   "id": "e6b8d675-a625-43f9-85a4-a86ea9e9a72d",
   "metadata": {},
   "outputs": [],
   "source": [
    "#using while loop"
   ]
  },
  {
   "cell_type": "code",
   "execution_count": 17,
   "id": "ddb71889-78bb-44a9-95b5-1dda68a1f3a7",
   "metadata": {},
   "outputs": [
    {
     "name": "stdout",
     "output_type": "stream",
     "text": [
      "Sum of the first 10 natural numbers: 55\n"
     ]
    }
   ],
   "source": [
    "sum_natural_no = 0\n",
    "i = 1\n",
    "\n",
    "while i <= 10:\n",
    "    sum_natural_no = sum_natural_no + i\n",
    "    i = i+ 1\n",
    "\n",
    "print('Sum of the first 10 natural numbers:', sum_natural_no)\n"
   ]
  },
  {
   "cell_type": "code",
   "execution_count": null,
   "id": "97b2d429-1c4e-41de-ab6f-b5fc71a7e60a",
   "metadata": {},
   "outputs": [],
   "source": []
  },
  {
   "cell_type": "code",
   "execution_count": 19,
   "id": "9d1295b9-db27-45d8-8f4d-bc08ebf69ae5",
   "metadata": {},
   "outputs": [
    {
     "name": "stdout",
     "output_type": "stream",
     "text": [
      "Product of the first 10 natural numbers: 3628800\n"
     ]
    }
   ],
   "source": [
    "product_natural_no = 1\n",
    "i = 1\n",
    "\n",
    "while i <= 10:\n",
    "    product_natural_no = product_natural_no * i\n",
    "    i = i + 1\n",
    "\n",
    "print('Product of the first 10 natural numbers:', product_natural_no)"
   ]
  },
  {
   "cell_type": "code",
   "execution_count": null,
   "id": "2557614e-bf77-4125-82c1-578b0c83c0f7",
   "metadata": {},
   "outputs": [],
   "source": []
  },
  {
   "cell_type": "markdown",
   "id": "208c0e37-8def-4f3a-b2c6-149edbab73ca",
   "metadata": {},
   "source": [
    "ANSWER 3:"
   ]
  },
  {
   "cell_type": "code",
   "execution_count": 30,
   "id": "168e7434-55ce-49af-8660-c5d5dff960c5",
   "metadata": {},
   "outputs": [
    {
     "name": "stdin",
     "output_type": "stream",
     "text": [
      "units of electricity consumed in a month:  310\n"
     ]
    },
    {
     "name": "stdout",
     "output_type": "stream",
     "text": [
      "Your electricity bill is Rs. 2250.0\n"
     ]
    }
   ],
   "source": [
    "def calculate_bill(units):\n",
    "    total_bill = 0\n",
    "    \n",
    "    if units <= 100:\n",
    "        total_bill = units * 4.5\n",
    "    elif units <= 200:\n",
    "        total_bill = 100 * 4.5 + (units - 100) * 6\n",
    "    elif units <= 300:\n",
    "        total_bill = 100 * 4.5 + 100 * 6 + (units - 200) * 10\n",
    "    else:\n",
    "        total_bill = 100 * 4.5 + 100 * 6 + 100 * 10 + (units - 300) * 20\n",
    "    \n",
    "    return total_bill\n",
    "\n",
    "def main():\n",
    "    units = int(input('units of electricity consumed in a month: '))\n",
    "    bill_amount = calculate_bill(units)\n",
    "    print('Your electricity bill is Rs.', bill_amount)\n",
    "\n",
    "if __name__ == '__main__':\n",
    "    main()"
   ]
  },
  {
   "cell_type": "code",
   "execution_count": null,
   "id": "d3d2d8cb-10eb-4c22-8aea-ee2655ae1000",
   "metadata": {},
   "outputs": [],
   "source": []
  },
  {
   "cell_type": "markdown",
   "id": "d2c5ba2a-97e7-4a4e-a48b-ef938f8d4f8b",
   "metadata": {},
   "source": [
    "ANSWER 4 :"
   ]
  },
  {
   "cell_type": "code",
   "execution_count": 31,
   "id": "4f2fb24c-4773-4a1f-a771-5916a7e96f69",
   "metadata": {},
   "outputs": [],
   "source": [
    "# using for loop"
   ]
  },
  {
   "cell_type": "code",
   "execution_count": 42,
   "id": "066cba8c-e55e-4878-b520-05eb86ea3666",
   "metadata": {},
   "outputs": [
    {
     "name": "stdout",
     "output_type": "stream",
     "text": [
      "[8, 64, 125, 216, 512, 1000, 1728, 2744, 3375, 4096, 5832, 8000, 10648, 13824, 15625, 17576, 21952, 27000, 32768, 39304, 42875, 46656, 54872, 64000, 74088, 85184, 91125, 97336, 110592, 125000, 140608, 157464, 166375, 175616, 195112, 216000, 238328, 262144, 274625, 287496, 314432, 343000, 373248, 405224, 421875, 438976, 474552, 512000, 551368, 592704, 614125, 636056, 681472, 729000, 778688, 830584, 857375, 884736, 941192, 1000000]\n"
     ]
    }
   ],
   "source": [
    "cubes_divisible_by_4_or_5 = []\n",
    "\n",
    "for number in range (1, 101):\n",
    "    cube = number ** 3\n",
    "    if cube % 4 == 0 or cube % 5 == 0:\n",
    "        cubes_divisible_by_4_or_5.append(cube)\n",
    "\n",
    "print(cubes_divisible_by_4_or_5)"
   ]
  },
  {
   "cell_type": "code",
   "execution_count": 40,
   "id": "d5b4bd8c-e559-4058-b22b-3bd594850967",
   "metadata": {},
   "outputs": [],
   "source": [
    "#using while loop"
   ]
  },
  {
   "cell_type": "code",
   "execution_count": 1,
   "id": "eb37481a-9d99-4b6e-8863-56114282d970",
   "metadata": {},
   "outputs": [
    {
     "name": "stdout",
     "output_type": "stream",
     "text": [
      "[8, 64, 125, 216, 512, 1000, 1728, 2744, 3375, 4096, 5832, 8000, 10648, 13824, 15625, 17576, 21952, 27000, 32768, 39304, 42875, 46656, 54872, 64000, 74088, 85184, 91125, 97336, 110592, 125000, 140608, 157464, 166375, 175616, 195112, 216000, 238328, 262144, 274625, 287496, 314432, 343000, 373248, 405224, 421875, 438976, 474552, 512000, 551368, 592704, 614125, 636056, 681472, 729000, 778688, 830584, 857375, 884736, 941192, 1000000]\n"
     ]
    }
   ],
   "source": [
    "cubes_divisible_by_4_or_5 = []\n",
    "number = 1\n",
    "\n",
    "while number <= 100:\n",
    "    cube = number ** 3\n",
    "    if cube % 4 == 0 or cube % 5 == 0:\n",
    "        cubes_divisible_by_4_or_5.append(cube)\n",
    "    number=number+ 1\n",
    "\n",
    "print(cubes_divisible_by_4_or_5)"
   ]
  },
  {
   "cell_type": "code",
   "execution_count": null,
   "id": "f7b28481-8415-4a87-bb4f-804b1b0213eb",
   "metadata": {},
   "outputs": [],
   "source": []
  },
  {
   "cell_type": "markdown",
   "id": "3e94c27c-a0c4-4391-9959-f225b0fadc04",
   "metadata": {},
   "source": [
    "ANSWER 5 :"
   ]
  },
  {
   "cell_type": "code",
   "execution_count": 2,
   "id": "33e394a4-f982-4fe6-b38c-fbd48719aa6d",
   "metadata": {},
   "outputs": [
    {
     "name": "stdout",
     "output_type": "stream",
     "text": [
      "12\n"
     ]
    }
   ],
   "source": [
    "string = \"I want to become a data scientist\"\n",
    "\n",
    "string = string.lower()\n",
    "\n",
    "vowels = {'a', 'e', 'i', 'o', 'u'}\n",
    "\n",
    "vowel_count = 0\n",
    "for character in string:\n",
    "    if character in vowels:\n",
    "        vowel_count = vowel_count + 1\n",
    "\n",
    "print( vowel_count)"
   ]
  },
  {
   "cell_type": "code",
   "execution_count": null,
   "id": "ee751b9f-706d-4258-a916-cb45f3b49b0b",
   "metadata": {},
   "outputs": [],
   "source": []
  }
 ],
 "metadata": {
  "kernelspec": {
   "display_name": "Python 3 (ipykernel)",
   "language": "python",
   "name": "python3"
  },
  "language_info": {
   "codemirror_mode": {
    "name": "ipython",
    "version": 3
   },
   "file_extension": ".py",
   "mimetype": "text/x-python",
   "name": "python",
   "nbconvert_exporter": "python",
   "pygments_lexer": "ipython3",
   "version": "3.11.7"
  }
 },
 "nbformat": 4,
 "nbformat_minor": 5
}
