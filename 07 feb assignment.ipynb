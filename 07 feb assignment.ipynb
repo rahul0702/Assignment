{
 "cells": [
  {
   "cell_type": "raw",
   "id": "53226e75-1af2-4164-9b51-eef8bbf237f6",
   "metadata": {},
   "source": [
    "RAHUL SHARMA\n",
    "PYTHON TASK: 2\n",
    "07 FEBRAURY 2023"
   ]
  },
  {
   "cell_type": "markdown",
   "id": "1266f6b5-22fb-4657-b3ec-fd72d00ca946",
   "metadata": {},
   "source": [
    "Que 1: \n",
    "You are writing code for a company. The requirement of the company is that you create a python\n",
    "function that will check whether the password entered by the user is correct or not. The function should\n",
    "take the password as input and return the string “Valid Password” if the entered password follows the\n",
    "below-given password guidelines else it should return “Invalid Password”.\n",
    "    \n",
    "Note:\n",
    "1. The Password should contain at least two uppercase letters and at least two lowercase letters.\n",
    "2. The Password should contain at least a number and three special characters.\n",
    "3. The length of the password should be 10 characters long."
   ]
  },
  {
   "cell_type": "markdown",
   "id": "8257b265-bd85-40a0-99a4-99c0364ad055",
   "metadata": {},
   "source": [
    "ANSWER:"
   ]
  },
  {
   "cell_type": "code",
   "execution_count": 8,
   "id": "f81cba26-b576-4ecc-91ea-23fe205273b1",
   "metadata": {},
   "outputs": [
    {
     "name": "stdin",
     "output_type": "stream",
     "text": [
      "Enter your password:  RD@#$sha12\n"
     ]
    },
    {
     "name": "stdout",
     "output_type": "stream",
     "text": [
      "Valid Password\n"
     ]
    }
   ],
   "source": [
    "import re\n",
    "\n",
    "def check_password(password):\n",
    "   \n",
    "    if len(password) != 10:\n",
    "        return \"Invalid Password\"\n",
    "    \n",
    "    uppercase_count = sum(1 for char in password if char.isupper())\n",
    "    if uppercase_count < 2:\n",
    "        return \"Invalid Password\"\n",
    "    \n",
    "    lowercase_count = sum(1 for char in password if char.islower())\n",
    "    if lowercase_count < 2:\n",
    "        return \"Invalid Password\"\n",
    "    \n",
    "    if not any(char.isdigit() for char in password):\n",
    "        return \"Invalid Password\"\n",
    "    \n",
    "    special_characters = re.findall(r'[!@#$%^&*()-_=+]', password)\n",
    "    if len(special_characters) < 3:\n",
    "        return \"Invalid Password\"\n",
    "    \n",
    "    return \"Valid Password\"\n",
    "\n",
    "password = input(\"Enter your password: \")\n",
    "print(check_password(password))"
   ]
  },
  {
   "cell_type": "code",
   "execution_count": 9,
   "id": "b0348d71-f313-48e4-bf46-fb80a9ddc924",
   "metadata": {},
   "outputs": [
    {
     "name": "stdin",
     "output_type": "stream",
     "text": [
      "Enter your password:  rd234@#$\n"
     ]
    }
   ],
   "source": [
    "password = input(\"Enter your password: \")"
   ]
  },
  {
   "cell_type": "code",
   "execution_count": 10,
   "id": "dfff784d-887b-489e-89dd-24157d0fecec",
   "metadata": {},
   "outputs": [
    {
     "name": "stdout",
     "output_type": "stream",
     "text": [
      "Invalid Password\n"
     ]
    }
   ],
   "source": [
    "print(check_password(password))"
   ]
  },
  {
   "cell_type": "markdown",
   "id": "bfe9d077-8476-448f-a2f9-a38dc8664f81",
   "metadata": {},
   "source": [
    "Que 2:"
   ]
  },
  {
   "cell_type": "raw",
   "id": "2ee8b341-84c4-4c58-a8f8-9a51ba5f9899",
   "metadata": {},
   "source": [
    "Solve the below-given questions using at least one of the following:\n",
    "1. Lambda function\n",
    "2. Filter function\n",
    "3. Zap function\n",
    "4. List Comprehension\n",
    "\n",
    ".Check if the string starts with a particular letter\n",
    ". Check if the string is numeric\n",
    ". Sort a list of tuples having fruit names and their quantity. [(\"mango\",99),(\"orange\",80), (\"grapes\", 1000)-\n",
    ". Find the squares of numbers from 1 to 10\n",
    ". Find the cube root of numbers from 1 to 10\n",
    ". Check if a given number is even\n",
    ". Filter odd numbers from the given list.\n",
    "[1,2,3,4,5,6,7,8,9,10]\n",
    ". Sort a list of integers into positive and negative integers lists.\n",
    "[1,2,3,4,5,6,-1,-2,-3,-4,-5,0]"
   ]
  },
  {
   "cell_type": "markdown",
   "id": "d27133e0-6ef7-4bb4-8acf-1f1349f36900",
   "metadata": {},
   "source": [
    "ANSWER :"
   ]
  },
  {
   "cell_type": "markdown",
   "id": "483cf17b-746c-401c-a444-db1df31c0975",
   "metadata": {},
   "source": [
    "1. Check if the string starts with a particular letter"
   ]
  },
  {
   "cell_type": "code",
   "execution_count": 12,
   "id": "26211c7e-27a3-40f9-988c-e3dcd2a6c408",
   "metadata": {},
   "outputs": [
    {
     "name": "stdout",
     "output_type": "stream",
     "text": [
      "True\n"
     ]
    }
   ],
   "source": [
    "starts_with_letter = lambda string, letter: string[0] == letter\n",
    "print(starts_with_letter(\"Hello\", \"H\")) "
   ]
  },
  {
   "cell_type": "markdown",
   "id": "5351b945-da93-4582-8b8a-8f05aaccd367",
   "metadata": {},
   "source": [
    "Check if the string is numeric"
   ]
  },
  {
   "cell_type": "code",
   "execution_count": 13,
   "id": "b994e555-fe97-428b-a2c7-85f0da8a71d5",
   "metadata": {},
   "outputs": [
    {
     "name": "stdout",
     "output_type": "stream",
     "text": [
      "True\n"
     ]
    }
   ],
   "source": [
    "is_numeric = lambda string: string.isdigit()\n",
    "print(is_numeric(\"123\"))  "
   ]
  },
  {
   "cell_type": "markdown",
   "id": "b79dc6f5-a80c-4ba9-80a6-c0d61e2fae0d",
   "metadata": {},
   "source": [
    "Sort a list of tuples having fruit names and their quantity:"
   ]
  },
  {
   "cell_type": "code",
   "execution_count": 15,
   "id": "79f217d7-22d9-48c5-82c5-2dceca3062e9",
   "metadata": {},
   "outputs": [
    {
     "name": "stdout",
     "output_type": "stream",
     "text": [
      "[('orange', 80), ('mango', 99), ('grapes', 1000)]\n"
     ]
    }
   ],
   "source": [
    "fruits = [(\"mango\", 99), (\"orange\", 80), (\"grapes\", 1000)]\n",
    "sorted_fruits = sorted(fruits, key=lambda x: x[1])\n",
    "print(sorted_fruits) "
   ]
  },
  {
   "cell_type": "markdown",
   "id": "49f1e39e-e9f4-4625-ba99-11b1a90a5671",
   "metadata": {},
   "source": [
    "Find the cube root of numbers from 1 to 10"
   ]
  },
  {
   "cell_type": "code",
   "execution_count": 16,
   "id": "069889b1-3e3a-43cc-ab74-03d6cb685246",
   "metadata": {},
   "outputs": [
    {
     "name": "stdout",
     "output_type": "stream",
     "text": [
      "[1.0, 1.2599210498948732, 1.4422495703074083, 1.5874010519681994, 1.7099759466766968, 1.8171205928321397, 1.912931182772389, 2.0, 2.080083823051904, 2.154434690031884]\n"
     ]
    }
   ],
   "source": [
    "from math import pow\n",
    "cube_roots = [pow(x, 1/3) for x in range(1, 11)]\n",
    "print(cube_roots)  # Output: [1.0, 1.2599210498948732, 1.4422495703074083, 1.5874010519681994, 1.7099759466766968, 1.8171205928321397, 1.912931182772389, 2.0, 2.080083823051904, 2.154434690031884]\n"
   ]
  },
  {
   "cell_type": "markdown",
   "id": "7c9b77dc-ecbc-4e2f-973f-852e4f6baa9b",
   "metadata": {},
   "source": [
    "Find the squares of numbers from 1 to 10"
   ]
  },
  {
   "cell_type": "code",
   "execution_count": 20,
   "id": "b51d1126-4523-45ab-a747-327ebf626800",
   "metadata": {},
   "outputs": [
    {
     "name": "stdout",
     "output_type": "stream",
     "text": [
      "[1, 4, 9, 16, 25, 36, 49, 64, 81, 100]\n"
     ]
    }
   ],
   "source": [
    "y = [x**2 for x in range(1, 11)]\n",
    "print(y)  \n"
   ]
  },
  {
   "cell_type": "markdown",
   "id": "0df643a6-0d79-4bcb-a4d7-f7cd6f2e882f",
   "metadata": {},
   "source": [
    "Check if a given number is even:"
   ]
  },
  {
   "cell_type": "code",
   "execution_count": 1,
   "id": "51e33807-e306-430e-aa46-f98697baabc1",
   "metadata": {},
   "outputs": [
    {
     "name": "stdout",
     "output_type": "stream",
     "text": [
      "True\n"
     ]
    }
   ],
   "source": [
    "is_even = lambda num: num % 2 == 0\n",
    "print(is_even(6))  \n"
   ]
  },
  {
   "cell_type": "code",
   "execution_count": null,
   "id": "53031ebf-92af-4490-b955-fad7fbc4a092",
   "metadata": {},
   "outputs": [],
   "source": []
  }
 ],
 "metadata": {
  "kernelspec": {
   "display_name": "Python 3 (ipykernel)",
   "language": "python",
   "name": "python3"
  },
  "language_info": {
   "codemirror_mode": {
    "name": "ipython",
    "version": 3
   },
   "file_extension": ".py",
   "mimetype": "text/x-python",
   "name": "python",
   "nbconvert_exporter": "python",
   "pygments_lexer": "ipython3",
   "version": "3.11.7"
  }
 },
 "nbformat": 4,
 "nbformat_minor": 5
}
