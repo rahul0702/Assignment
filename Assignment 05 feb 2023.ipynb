{
 "cells": [
  {
   "cell_type": "markdown",
   "id": "bb96d864-62a5-423f-bace-6ab8ab2cc1f7",
   "metadata": {},
   "source": [
    "RAHUL SHARMA , ASSIGNMENT FEBRAURY 5, 2023"
   ]
  },
  {
   "cell_type": "markdown",
   "id": "5658db08-df14-405b-94ee-3655ed70d6a8",
   "metadata": {},
   "source": [
    "ANSWER1:"
   ]
  },
  {
   "cell_type": "markdown",
   "id": "ef0fa8b5-2acb-4fda-8f97-e4835c44e231",
   "metadata": {},
   "source": [
    "In object-oriented programming (OOP), a class is a blueprint or template for creating objects . It defines the properties (attributes) and behaviors (methods) that objects of that class will have.\n",
    "\n",
    "An object, on the other hand, is an instance of a class. It is a tangible entity that exists in memory during the execution of a program. Objects have their own unique state (attribute values) and behavior (methods), as defined by the class from which they are instantiated."
   ]
  },
  {
   "cell_type": "markdown",
   "id": "9e5b194d-56fb-46ee-9d82-d3bd7666973f",
   "metadata": {},
   "source": [
    "EXAMPLE:"
   ]
  },
  {
   "cell_type": "code",
   "execution_count": 105,
   "id": "a3119657-e10b-4389-ace7-6b4a7ce56c73",
   "metadata": {},
   "outputs": [
    {
     "name": "stdout",
     "output_type": "stream",
     "text": [
      "Toyota Camry 2022\n",
      "Tesla Model S 2023\n",
      "100\n",
      "200\n"
     ]
    }
   ],
   "source": [
    "class Car:\n",
    "    def __init__(self, make, model, year):\n",
    "        self.make = make\n",
    "        self.model = model\n",
    "        self.year = year\n",
    "        self.mileage = 0\n",
    "    \n",
    "    def drive(self, distance):\n",
    "        self.mileage += distance\n",
    "\n",
    "\n",
    "car1 = Car(\"Toyota\", \"Camry\", 2022)\n",
    "car2 = Car(\"Tesla\", \"Model S\", 2023)\n",
    "\n",
    "\n",
    "print(car1.make, car1.model, car1.year)  \n",
    "print(car2.make, car2.model, car2.year)  \n",
    "\n",
    "# Invoking object methods\n",
    "car1.drive(100)\n",
    "car2.drive(200)\n",
    "print(car1.mileage)  \n",
    "print(car2.mileage) "
   ]
  },
  {
   "cell_type": "markdown",
   "id": "a7e4f6f7-e6a1-48ab-ab39-8b2008d6362c",
   "metadata": {},
   "source": [
    "ANSWER 2:"
   ]
  },
  {
   "cell_type": "raw",
   "id": "d654637d-c016-4347-9b94-05b221b13a96",
   "metadata": {},
   "source": [
    "a) Encapsulation\n",
    "b) Inheritance\n",
    "c) Polymorphism\n",
    "d) Abstraction"
   ]
  },
  {
   "cell_type": "markdown",
   "id": "a81529aa-d7ae-42a5-a051-a17913d35f14",
   "metadata": {},
   "source": [
    "ANSWER 3:"
   ]
  },
  {
   "cell_type": "raw",
   "id": "4af2791f-9ce4-4d00-bc3e-c0e2ff975374",
   "metadata": {},
   "source": [
    "The __init__() function, also known as the constructor method, is a special method in Python classes that is automatically called when a new instance of the class is created. Its primary purpose is to initialize the object's attributes and perform any necessary setup tasks."
   ]
  },
  {
   "cell_type": "code",
   "execution_count": 107,
   "id": "417277d5-565f-45dd-8426-b169a81efc7c",
   "metadata": {},
   "outputs": [
    {
     "name": "stdout",
     "output_type": "stream",
     "text": [
      "Hello, my name is Alice and I'm 25 years old.\n",
      "Hello, my name is Bob and I'm 17 years old.\n",
      "True\n",
      "False\n"
     ]
    }
   ],
   "source": [
    "class Person:\n",
    "    def __init__(self, name, age):\n",
    "        self.name = name\n",
    "        self.age = age\n",
    "        self.is_adult = age >= 18\n",
    "\n",
    "    def welcome(self):\n",
    "        print(f\"Hello, my name is {self.name} and I'm {self.age} years old.\")\n",
    "\n",
    "\n",
    "person1 = Person(\"Alice\", 25)\n",
    "person2 = Person(\"Bob\", 17)\n",
    "\n",
    "\n",
    "person1.welcome()  \n",
    "person2.welcome() \n",
    "\n",
    "print(person1.is_adult)  \n",
    "print(person2.is_adult) "
   ]
  },
  {
   "cell_type": "markdown",
   "id": "bdd7f7ed-a7a7-4c0c-b67c-f325ac877ad8",
   "metadata": {},
   "source": [
    "ANSWER 4:"
   ]
  },
  {
   "cell_type": "raw",
   "id": "d825a83e-55f9-4a98-9db7-e68e5987cd8f",
   "metadata": {},
   "source": [
    "In object-oriented programming (OOP), self is a convention used in Python to refer to the instance of the class itself. It is the first parameter of instance methods within a class, including the __init__() method."
   ]
  },
  {
   "cell_type": "markdown",
   "id": "9b39c682-456d-4d1b-9efc-9d2e0df9bbf5",
   "metadata": {},
   "source": [
    "use of 'self'"
   ]
  },
  {
   "cell_type": "raw",
   "id": "09c69cb7-43b2-4161-8a0c-230308268ade",
   "metadata": {},
   "source": [
    "1. For Instance reference\n",
    "2. For Differentiating instance Attributes from Local Vriables\n",
    "3. For Accessing Instance Attributes\n",
    "4. For Method Invocation\n",
    "5. For Passing the Instance Itself"
   ]
  },
  {
   "cell_type": "markdown",
   "id": "dd49b0e0-309c-49b9-b200-47b7ea1e6bc5",
   "metadata": {},
   "source": [
    "ANSWER 5:"
   ]
  },
  {
   "cell_type": "markdown",
   "id": "c097d3fc-a2da-4942-bf6e-4e2d44d88df0",
   "metadata": {},
   "source": [
    "Inheritance is a fundamental concept in object-oriented programming (OOP) that allows a new class (subclass) to inherit properties and behaviors from an existing class (superclass). This promotes code reusability and establishes a hierarchical relationship between classes, where the subclass can extend or specialize the functionality of the superclass."
   ]
  },
  {
   "cell_type": "markdown",
   "id": "f5f5aab9-6350-4e9f-8886-2d97b713dfb2",
   "metadata": {},
   "source": [
    "Types of Inheritance:"
   ]
  },
  {
   "cell_type": "raw",
   "id": "5314907f-4ef0-4dce-afed-5178047b55ce",
   "metadata": {},
   "source": [
    "1. Single Inheritance\n",
    "2. Multi level inheritance\n",
    "3. Multiple inheritance\n",
    "4. Hierarchical inheritance\n",
    "5. Hybrid or virtual Inheritance"
   ]
  },
  {
   "cell_type": "markdown",
   "id": "0efe3661-1192-467d-b615-a124755d121b",
   "metadata": {},
   "source": [
    "example 1: single inheritance"
   ]
  },
  {
   "cell_type": "code",
   "execution_count": 108,
   "id": "5118d4c0-5148-4c2c-940e-513c620001d8",
   "metadata": {},
   "outputs": [],
   "source": [
    "class test:\n",
    "\n",
    "    def test_meth(self):\n",
    "        return 'this is my first class'\n",
    "\n",
    "class child_test(test):\n",
    "    pass\n",
    "\n",
    "child_test_obj = child_test()"
   ]
  },
  {
   "cell_type": "code",
   "execution_count": 109,
   "id": "8015f9dd-0378-4846-ab3c-68dc21490561",
   "metadata": {},
   "outputs": [
    {
     "data": {
      "text/plain": [
       "'this is my first class'"
      ]
     },
     "execution_count": 109,
     "metadata": {},
     "output_type": "execute_result"
    }
   ],
   "source": [
    "child_test_obj.test_meth()"
   ]
  },
  {
   "cell_type": "markdown",
   "id": "4df9a3cc-6267-4402-bb8c-5dfe5924ae5c",
   "metadata": {},
   "source": [
    "example 2: Multi level inheritance"
   ]
  },
  {
   "cell_type": "code",
   "execution_count": 111,
   "id": "82c72b63-e0c7-4b39-afcf-e1149c2f2c2e",
   "metadata": {},
   "outputs": [],
   "source": [
    "class class1:\n",
    "\n",
    "    def test_class1(self):\n",
    "        return 'this is a meth from class1'\n",
    "\n",
    "class class2(class1):\n",
    "    def test_class2(self):\n",
    "        return 'this is a meth from class2'\n",
    "\n",
    "class class3(class2):\n",
    "    pass\n",
    "\n",
    "obj_class3 = class3()"
   ]
  },
  {
   "cell_type": "code",
   "execution_count": 112,
   "id": "534aef4a-ccd8-4fea-9f0a-00638aac35f0",
   "metadata": {},
   "outputs": [
    {
     "data": {
      "text/plain": [
       "'this is a meth from class1'"
      ]
     },
     "execution_count": 112,
     "metadata": {},
     "output_type": "execute_result"
    }
   ],
   "source": [
    "obj_class3.test_class1()"
   ]
  },
  {
   "cell_type": "code",
   "execution_count": 113,
   "id": "707e35f0-a543-40e3-a31d-6e1b0f04dc23",
   "metadata": {},
   "outputs": [
    {
     "data": {
      "text/plain": [
       "'this is a meth from class2'"
      ]
     },
     "execution_count": 113,
     "metadata": {},
     "output_type": "execute_result"
    }
   ],
   "source": [
    "obj_class3.test_class2()"
   ]
  },
  {
   "cell_type": "markdown",
   "id": "84e1bc0a-fd6b-403a-99cd-0dd2cb9aab86",
   "metadata": {},
   "source": [
    "example 3: multiple inheritance"
   ]
  },
  {
   "cell_type": "code",
   "execution_count": 114,
   "id": "d74fdc4c-153e-4cb6-a547-77dcec3ecfdb",
   "metadata": {},
   "outputs": [],
   "source": [
    "class class1:\n",
    "\n",
    "    def test_class1(self):\n",
    "        return 'this is class1'\n",
    "\n",
    "class class2:\n",
    "\n",
    "    def test_class2(self):\n",
    "        return 'this is class2'\n",
    "\n",
    "class class3(class1, class2):\n",
    "    pass\n",
    "\n",
    "obj_class3 = class3()"
   ]
  },
  {
   "cell_type": "code",
   "execution_count": 115,
   "id": "349e98ad-7b30-415b-a071-2f36316f7cdd",
   "metadata": {},
   "outputs": [
    {
     "data": {
      "text/plain": [
       "'this is class1'"
      ]
     },
     "execution_count": 115,
     "metadata": {},
     "output_type": "execute_result"
    }
   ],
   "source": [
    "obj_class3.test_class1()"
   ]
  },
  {
   "cell_type": "code",
   "execution_count": 116,
   "id": "cd7d45d7-06f8-45ab-982e-508ba159e84c",
   "metadata": {},
   "outputs": [
    {
     "data": {
      "text/plain": [
       "'this is class2'"
      ]
     },
     "execution_count": 116,
     "metadata": {},
     "output_type": "execute_result"
    }
   ],
   "source": [
    "obj_class3.test_class2()"
   ]
  },
  {
   "cell_type": "markdown",
   "id": "0967adcc-3078-41f5-bac7-145c06c6398e",
   "metadata": {},
   "source": [
    "Example 4: Hierarchical Inheritance"
   ]
  },
  {
   "cell_type": "code",
   "execution_count": 117,
   "id": "68e3d8cc-de2c-4123-806c-5968d64c6f0d",
   "metadata": {},
   "outputs": [
    {
     "name": "stdout",
     "output_type": "stream",
     "text": [
      "Animal speaks\n",
      "Cat meows\n",
      "Animal speaks\n",
      "Dog barks\n"
     ]
    }
   ],
   "source": [
    "class Animal:\n",
    "    def speak(self):\n",
    "        print(\"Animal speaks\")\n",
    "\n",
    "class Cat(Animal):  \n",
    "    def meow(self):\n",
    "        print(\"Cat meows\")\n",
    "\n",
    "class Dog(Animal): \n",
    "    def bark(self):\n",
    "        print(\"Dog barks\")\n",
    "\n",
    "\n",
    "cat = Cat()\n",
    "dog = Dog()\n",
    "cat.speak() \n",
    "cat.meow()   \n",
    "dog.speak()  \n",
    "dog.bark()\n"
   ]
  },
  {
   "cell_type": "markdown",
   "id": "c02bed24-0d5f-49c0-b690-c09e49bec787",
   "metadata": {},
   "source": [
    "Example 5: Hybrid Inheritance"
   ]
  },
  {
   "cell_type": "code",
   "execution_count": 118,
   "id": "89249c59-94fd-446a-9a17-68fd04788569",
   "metadata": {},
   "outputs": [
    {
     "name": "stdout",
     "output_type": "stream",
     "text": [
      "Method A\n",
      "Method B\n",
      "Method C\n",
      "Method D\n"
     ]
    }
   ],
   "source": [
    "class A:\n",
    "    def method_A(self):\n",
    "        print(\"Method A\")\n",
    "\n",
    "class B(A):\n",
    "    def method_B(self):\n",
    "        print(\"Method B\")\n",
    "\n",
    "class C(A):\n",
    "    def method_C(self):\n",
    "        print(\"Method C\")\n",
    "\n",
    "class D(B, C):  \n",
    "    def method_D(self):\n",
    "        print(\"Method D\")\n",
    "\n",
    "\n",
    "obj = D()\n",
    "obj.method_A() \n",
    "obj.method_B()  \n",
    "obj.method_C() \n",
    "obj.method_D() \n"
   ]
  },
  {
   "cell_type": "code",
   "execution_count": null,
   "id": "8baced3c-1260-46c9-a63e-3b9e90590ee7",
   "metadata": {},
   "outputs": [],
   "source": []
  }
 ],
 "metadata": {
  "kernelspec": {
   "display_name": "Python 3 (ipykernel)",
   "language": "python",
   "name": "python3"
  },
  "language_info": {
   "codemirror_mode": {
    "name": "ipython",
    "version": 3
   },
   "file_extension": ".py",
   "mimetype": "text/x-python",
   "name": "python",
   "nbconvert_exporter": "python",
   "pygments_lexer": "ipython3",
   "version": "3.11.7"
  }
 },
 "nbformat": 4,
 "nbformat_minor": 5
}
