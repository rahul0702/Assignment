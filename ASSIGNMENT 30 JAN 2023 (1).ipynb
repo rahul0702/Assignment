{
 "cells": [
  {
   "cell_type": "markdown",
   "id": "2207e51a-f359-4a9f-a483-54e0eb366ab2",
   "metadata": {},
   "source": [
    "RAHUL SHARMA\n",
    "ASSIGNMENT : 30 JANUARY 2023"
   ]
  },
  {
   "cell_type": "markdown",
   "id": "e5334e64-4396-4e03-8eaf-17bc796e8435",
   "metadata": {},
   "source": [
    "ANSWER 1:"
   ]
  },
  {
   "cell_type": "code",
   "execution_count": 2,
   "id": "5e8eec4b-539e-4d80-9959-446740007d54",
   "metadata": {},
   "outputs": [
    {
     "name": "stdin",
     "output_type": "stream",
     "text": [
      "enter your marks 100\n"
     ]
    },
    {
     "name": "stdout",
     "output_type": "stream",
     "text": [
      "you will be part of A batch\n"
     ]
    }
   ],
   "source": [
    "marks = int(input('enter your marks'))\n",
    "if marks > 90:\n",
    "    print('you will be part of A batch')\n",
    "elif marks > 80 and marks <= 90:\n",
    "    print('you will be a part of B batch')\n",
    "elif marks >= 60 and marks <= 80:\n",
    "    print('you will be a part of C batch')\n",
    "else:\n",
    "    print('you will be a part of D batch')\n",
    "    "
   ]
  },
  {
   "cell_type": "markdown",
   "id": "77e1f95a-74f0-4297-9e11-1b65df94ff76",
   "metadata": {},
   "source": [
    "ANSWER 2 :"
   ]
  },
  {
   "cell_type": "code",
   "execution_count": 3,
   "id": "a7a59d97-0916-402d-889a-0e7e6fd31134",
   "metadata": {},
   "outputs": [
    {
     "name": "stdin",
     "output_type": "stream",
     "text": [
      "enter your price 25000\n"
     ]
    },
    {
     "name": "stdout",
     "output_type": "stream",
     "text": [
      "you have to pay 5% road tax\n"
     ]
    }
   ],
   "source": [
    "price = int(input('enter your price'))\n",
    "if price > 100000:\n",
    "    print('you have to pay 15% road tax')\n",
    "elif price >50000 and marks <= 100000:\n",
    "    print('you have to pay 10% road tax')\n",
    "\n",
    "else:\n",
    "    print('you have to pay 5% road tax')\n",
    "    "
   ]
  },
  {
   "cell_type": "markdown",
   "id": "70223e15-83c1-4268-97d0-f6ce29c7a97d",
   "metadata": {},
   "source": [
    "ANSWER 3:"
   ]
  },
  {
   "cell_type": "code",
   "execution_count": 9,
   "id": "52d30e8b-d63f-4fdf-9a17-86b15305d6a6",
   "metadata": {},
   "outputs": [
    {
     "name": "stdin",
     "output_type": "stream",
     "text": [
      "enter your city delhi\n"
     ]
    },
    {
     "name": "stdout",
     "output_type": "stream",
     "text": [
      "red fort\n"
     ]
    }
   ],
   "source": [
    "city = input('enter your city')\n",
    "if city == 'delhi':\n",
    "    print('red fort')\n",
    "elif city== 'agra':\n",
    "    print('taj mahal')\n",
    "elif city=='jaipur':\n",
    "    print('jal mahal')\n"
   ]
  },
  {
   "cell_type": "markdown",
   "id": "55086c99-7051-4ffc-9444-98fe4e665ba4",
   "metadata": {},
   "source": [
    "ANSWER 4 :"
   ]
  },
  {
   "cell_type": "code",
   "execution_count": 19,
   "id": "819c4df9-7d4a-4017-b3f8-fbab55ed4d30",
   "metadata": {},
   "outputs": [
    {
     "name": "stdin",
     "output_type": "stream",
     "text": [
      "Enter a number:  81\n"
     ]
    },
    {
     "name": "stdout",
     "output_type": "stream",
     "text": [
      "The number 81 can be divided by 3 2 times before it is less than or equal to 10.\n"
     ]
    }
   ],
   "source": [
    "def divide_no(num):\n",
    "    count = 0\n",
    "    while num > 10:\n",
    "        num /= 3\n",
    "        count += 1\n",
    "    return count\n",
    "\n",
    "def main():\n",
    "    number = int(input(\"Enter a number: \"))\n",
    "    result = divide_no(number)\n",
    "    print(f\"The number {number} can be divided by 3 {result} times before it is less than or equal to 10.\")\n",
    "\n",
    "if __name__ == \"__main__\":\n",
    "    main()\n"
   ]
  },
  {
   "cell_type": "markdown",
   "id": "fd1c5d06-f2a5-4e44-8153-9a764224e690",
   "metadata": {},
   "source": [
    "ANSWER 5:"
   ]
  },
  {
   "cell_type": "markdown",
   "id": "398a82fc-409f-4816-a94b-9aec05dfe9be",
   "metadata": {},
   "source": [
    "A while loop in Python is used when you want to execute a block of code repeatedly as long as a specified condition is true. It's particularly useful when the number of iterations isn't known beforehand or when you want to continue iterating until a certain condition is met."
   ]
  },
  {
   "cell_type": "markdown",
   "id": "19e29322-6695-4f48-9d60-cbf90f98bbaf",
   "metadata": {},
   "source": [
    "EXAMPLE: TO calculate Factorial of a given number"
   ]
  },
  {
   "cell_type": "code",
   "execution_count": 21,
   "id": "b800aa5d-adee-49f2-bb1f-46dff924df64",
   "metadata": {},
   "outputs": [
    {
     "name": "stdin",
     "output_type": "stream",
     "text": [
      "enter your number 5\n"
     ]
    },
    {
     "data": {
      "text/plain": [
       "120"
      ]
     },
     "execution_count": 21,
     "metadata": {},
     "output_type": "execute_result"
    }
   ],
   "source": [
    "number = int(input('enter your number'))\n",
    "factorial = 1\n",
    "while number > 0:\n",
    "    factorial = factorial*number\n",
    "    number = number-1\n",
    "factorial"
   ]
  },
  {
   "cell_type": "markdown",
   "id": "a3a1b1dd-8ae1-4dbd-9152-0c644bec6a65",
   "metadata": {},
   "source": [
    "ANSWER 6:"
   ]
  },
  {
   "cell_type": "markdown",
   "id": "eafd0a36-0801-4e80-add2-681a3242b065",
   "metadata": {},
   "source": [
    "1: Right triangle"
   ]
  },
  {
   "cell_type": "code",
   "execution_count": 22,
   "id": "a5b6d43f-ae06-44ff-aef3-99d7b194ccad",
   "metadata": {},
   "outputs": [
    {
     "name": "stdout",
     "output_type": "stream",
     "text": [
      "* \n",
      "* * \n",
      "* * * \n",
      "* * * * \n",
      "* * * * * \n"
     ]
    }
   ],
   "source": [
    "rows = 5\n",
    "i = 0\n",
    "while i < rows:\n",
    "    j = 0\n",
    "    while j <= i:\n",
    "        print(\"*\", end=\" \")\n",
    "        j += 1\n",
    "    print()\n",
    "    i += 1\n"
   ]
  },
  {
   "cell_type": "markdown",
   "id": "c5d753e2-ccac-485d-b5c5-ca406b86163b",
   "metadata": {},
   "source": [
    "2: Inverted right triangle"
   ]
  },
  {
   "cell_type": "code",
   "execution_count": 23,
   "id": "61f73b92-0c66-4fd5-9135-149d2f5c73b7",
   "metadata": {},
   "outputs": [
    {
     "name": "stdout",
     "output_type": "stream",
     "text": [
      "* * * * * \n",
      "* * * * \n",
      "* * * \n",
      "* * \n",
      "* \n"
     ]
    }
   ],
   "source": [
    "rows = 5\n",
    "i = rows\n",
    "while i > 0:\n",
    "    j = 0\n",
    "    while j < i:\n",
    "        print(\"*\", end=\" \")\n",
    "        j += 1\n",
    "    print()\n",
    "    i -= 1\n"
   ]
  },
  {
   "cell_type": "code",
   "execution_count": null,
   "id": "028a3734-a25f-4ea7-8326-6679344a70a4",
   "metadata": {},
   "outputs": [],
   "source": [
    "3: Pyramid"
   ]
  },
  {
   "cell_type": "code",
   "execution_count": 24,
   "id": "cf8969ea-3d83-427e-ba79-1decbb718d2b",
   "metadata": {},
   "outputs": [
    {
     "name": "stdout",
     "output_type": "stream",
     "text": [
      "    * \n",
      "   * * \n",
      "  * * * \n",
      " * * * * \n",
      "* * * * * \n"
     ]
    }
   ],
   "source": [
    "rows = 5\n",
    "i = 0\n",
    "while i < rows:\n",
    "    spaces = rows - i - 1\n",
    "    while spaces > 0:\n",
    "        print(\" \", end=\"\")\n",
    "        spaces -= 1\n",
    "    j = 0\n",
    "    while j <= i:\n",
    "        print(\"* \", end=\"\")\n",
    "        j += 1\n",
    "    print()\n",
    "    i += 1\n"
   ]
  },
  {
   "cell_type": "markdown",
   "id": "0c4b1df7-72af-409f-8378-55b7e3098f05",
   "metadata": {},
   "source": [
    "ANSWER 7 :"
   ]
  },
  {
   "cell_type": "code",
   "execution_count": 26,
   "id": "b55dc39a-f429-46c9-a65e-69bea25a7647",
   "metadata": {},
   "outputs": [
    {
     "name": "stdout",
     "output_type": "stream",
     "text": [
      "10\n",
      "9\n",
      "8\n",
      "7\n",
      "6\n",
      "5\n",
      "4\n",
      "3\n",
      "2\n",
      "1\n"
     ]
    }
   ],
   "source": [
    "num = 10\n",
    "while num >= 1:\n",
    "    print(num)\n",
    "    num -= 1\n"
   ]
  },
  {
   "cell_type": "markdown",
   "id": "1d751d71-c7de-49dd-a11c-093d330e07ef",
   "metadata": {},
   "source": [
    "ANSWER 8:"
   ]
  },
  {
   "cell_type": "code",
   "execution_count": 27,
   "id": "ae17ffb3-031d-4426-8735-1176e5895468",
   "metadata": {},
   "outputs": [
    {
     "name": "stdout",
     "output_type": "stream",
     "text": [
      "10\n",
      "9\n",
      "8\n",
      "7\n",
      "6\n",
      "5\n",
      "4\n",
      "3\n",
      "2\n",
      "1\n"
     ]
    }
   ],
   "source": [
    "num = 10\n",
    "while num >= 1:\n",
    "    print(num)\n",
    "    num -= 1\n"
   ]
  },
  {
   "cell_type": "code",
   "execution_count": null,
   "id": "9779faa8-3008-4c12-b7a4-20e9321a30a9",
   "metadata": {},
   "outputs": [],
   "source": []
  }
 ],
 "metadata": {
  "kernelspec": {
   "display_name": "Python 3 (ipykernel)",
   "language": "python",
   "name": "python3"
  },
  "language_info": {
   "codemirror_mode": {
    "name": "ipython",
    "version": 3
   },
   "file_extension": ".py",
   "mimetype": "text/x-python",
   "name": "python",
   "nbconvert_exporter": "python",
   "pygments_lexer": "ipython3",
   "version": "3.11.7"
  }
 },
 "nbformat": 4,
 "nbformat_minor": 5
}
