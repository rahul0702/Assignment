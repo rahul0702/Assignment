{
 "cells": [
  {
   "cell_type": "raw",
   "id": "4ff92dac-e5ef-435b-9732-06266d9e52cf",
   "metadata": {},
   "source": [
    "RAHUL SHARMA\n",
    "ASSIGNMENT: 09 FEBRAURY 2023"
   ]
  },
  {
   "cell_type": "markdown",
   "id": "1f5c0170-0b6e-41d7-bbfe-b108e56a5109",
   "metadata": {},
   "source": [
    "ANSWER 1:"
   ]
  },
  {
   "cell_type": "code",
   "execution_count": 22,
   "id": "1132267f-560f-4fbf-8188-0db6c19c786a",
   "metadata": {},
   "outputs": [
    {
     "name": "stdout",
     "output_type": "stream",
     "text": [
      "Name of vehicle: XUV 700\n",
      "Max speed: 200\n",
      "Average of vehicle: 45\n"
     ]
    }
   ],
   "source": [
    "class Vehicle:\n",
    "    def __init__(self, name_of_vehicle, max_speed, average_of_vehicle):\n",
    "        self.name_of_vehicle = name_of_vehicle\n",
    "        self.max_speed = max_speed\n",
    "        self.average_of_vehicle = average_of_vehicle\n",
    "\n",
    "\n",
    "car = Vehicle(\"XUV 700\", 200, 45)\n",
    "print(\"Name of vehicle:\", car.name_of_vehicle)\n",
    "print(\"Max speed:\", car.max_speed)\n",
    "print(\"Average of vehicle:\", car.average_of_vehicle)\n"
   ]
  },
  {
   "cell_type": "markdown",
   "id": "2653f24b-481c-4303-92db-2894660f7cd1",
   "metadata": {},
   "source": [
    "ANSWER 2:"
   ]
  },
  {
   "cell_type": "code",
   "execution_count": 21,
   "id": "edbc7906-61c9-46ff-a4d4-664a424132d7",
   "metadata": {},
   "outputs": [
    {
     "name": "stdout",
     "output_type": "stream",
     "text": [
      "The XUV 700 has a seating capacity of 5 people.\n"
     ]
    }
   ],
   "source": [
    "class Car(Vehicle):\n",
    "    def seating_capacity(self, capacity):\n",
    "        return f\"The {self.name_of_vehicle} has a seating capacity of {capacity} people.\"\n",
    "\n",
    "\n",
    "car = Car(\"XUV 700\", 180, 25)\n",
    "print(car.seating_capacity(5))\n"
   ]
  },
  {
   "cell_type": "markdown",
   "id": "58798133-555c-48f4-bfcd-5da7beffaaa4",
   "metadata": {},
   "source": [
    "ANSWER 3:"
   ]
  },
  {
   "cell_type": "raw",
   "id": "529b9ca6-2162-44bc-b1bb-c46dded4e1de",
   "metadata": {},
   "source": [
    "Multiple inheritance is a feature of some object-oriented programming languages where a class can inherit attributes and methods from more than one parent class. This means that a subclass can inherit from multiple superclasses."
   ]
  },
  {
   "cell_type": "code",
   "execution_count": 23,
   "id": "673de458-922d-4acc-9490-75535e78e1fc",
   "metadata": {},
   "outputs": [],
   "source": [
    "class class1:\n",
    "\n",
    "    def test_class1(self):\n",
    "        return 'this is class1'"
   ]
  },
  {
   "cell_type": "code",
   "execution_count": 24,
   "id": "7ba17210-3c1f-4f01-bf53-d97fe61f1841",
   "metadata": {},
   "outputs": [],
   "source": [
    "class class2:\n",
    "\n",
    "    def test_class2(self):\n",
    "        return 'this is class2'"
   ]
  },
  {
   "cell_type": "code",
   "execution_count": 25,
   "id": "d5cc1466-cb6b-4296-a989-98aabdd2001d",
   "metadata": {},
   "outputs": [],
   "source": [
    "class class3(class1, class2):\n",
    "    pass"
   ]
  },
  {
   "cell_type": "code",
   "execution_count": 26,
   "id": "5242ce32-c4bc-459e-a55d-0c2714551cd2",
   "metadata": {},
   "outputs": [],
   "source": [
    "obj_class3 = class3()"
   ]
  },
  {
   "cell_type": "code",
   "execution_count": 27,
   "id": "2de2c91b-3e8c-4616-93c9-c3b000a6d925",
   "metadata": {},
   "outputs": [
    {
     "data": {
      "text/plain": [
       "'this is class1'"
      ]
     },
     "execution_count": 27,
     "metadata": {},
     "output_type": "execute_result"
    }
   ],
   "source": [
    "obj_class3.test_class1()"
   ]
  },
  {
   "cell_type": "code",
   "execution_count": 28,
   "id": "7a9a16c0-a6c4-45c8-b44f-9168d99ecc82",
   "metadata": {},
   "outputs": [
    {
     "data": {
      "text/plain": [
       "'this is class2'"
      ]
     },
     "execution_count": 28,
     "metadata": {},
     "output_type": "execute_result"
    }
   ],
   "source": [
    "obj_class3.test_class2()"
   ]
  },
  {
   "cell_type": "markdown",
   "id": "762f38be-10d5-43ea-ac23-77fdd2ac7add",
   "metadata": {},
   "source": [
    "ANSWER 4:"
   ]
  },
  {
   "cell_type": "raw",
   "id": "3448010a-621b-4d59-a9c3-c69b3f5c4fa3",
   "metadata": {},
   "source": [
    "\n",
    "In Python, getter and setter methods are used to access and modify the attributes of a class respectively, while also providing control over how the attributes are accessed and modified. They are commonly used to implement the concept of encapsulation, where the internal representation of an object is hidden from the outside world.\n",
    "\n",
    "1) Getter Method: It is a method that is used to access the value of an attribute.\n",
    "2) Setter Method: It is a method that is used to set the value of an attribute."
   ]
  },
  {
   "cell_type": "code",
   "execution_count": 38,
   "id": "49cb3b02-a673-42ec-9de2-ba00fd7de7e7",
   "metadata": {},
   "outputs": [
    {
     "name": "stdout",
     "output_type": "stream",
     "text": [
      "Radius: 6\n",
      "New Radius: 7\n"
     ]
    }
   ],
   "source": [
    "class Circle:\n",
    "    def __init__(self, radius):\n",
    "        self._radius = radius\n",
    "\n",
    "    def get_radius(self):\n",
    "        return self._radius\n",
    "\n",
    "    def set_radius(self, radius):\n",
    "        if radius > 0:\n",
    "            self._radius = radius\n",
    "        else:\n",
    "            print(\"Radius must be greater than 0.\")\n",
    "\n",
    "circle = Circle(6)\n",
    "print(\"Radius:\", circle.get_radius())  \n",
    "\n",
    "circle.set_radius(7)  \n",
    "print(\"New Radius:\", circle.get_radius())  "
   ]
  },
  {
   "cell_type": "code",
   "execution_count": 33,
   "id": "abbbd5f9-b0ee-417d-9394-b784b08f9a50",
   "metadata": {},
   "outputs": [],
   "source": [
    "circle.set_radius(90)"
   ]
  },
  {
   "cell_type": "code",
   "execution_count": 34,
   "id": "26d39675-8175-4537-852b-ffe19aa3bc18",
   "metadata": {},
   "outputs": [
    {
     "data": {
      "text/plain": [
       "90"
      ]
     },
     "execution_count": 34,
     "metadata": {},
     "output_type": "execute_result"
    }
   ],
   "source": [
    "circle.get_radius()"
   ]
  },
  {
   "cell_type": "markdown",
   "id": "001461cf-972b-4ee2-a202-6f4bb29a4768",
   "metadata": {},
   "source": [
    "ANSWER 5:"
   ]
  },
  {
   "cell_type": "raw",
   "id": "082693e7-d2a3-40b2-998c-91c5941d7788",
   "metadata": {},
   "source": [
    "Method overriding in Python occurs when a subclass provides a specific implementation of a method that is already defined in its superclass. This allows the subclass to customize or extend the behavior of the method inherited from the superclass."
   ]
  },
  {
   "cell_type": "code",
   "execution_count": 46,
   "id": "251a71be-56a6-4fec-8a96-306afdfcb21b",
   "metadata": {},
   "outputs": [
    {
     "name": "stdout",
     "output_type": "stream",
     "text": [
      "input your animal name\n"
     ]
    }
   ],
   "source": [
    "class Animal:\n",
    "    def make_sound(self):\n",
    "         print(\"input your animal name\")\n",
    "       \n",
    "class Dog(Animal):\n",
    "    def make_sound(self):\n",
    "        print(\"Woof!\")\n",
    "\n",
    "class Cat(Animal):\n",
    "    def make_sound(self):\n",
    "        print(\"Meow!\")\n",
    "\n",
    "animal = Animal()\n",
    "animal.make_sound()  \n"
   ]
  },
  {
   "cell_type": "code",
   "execution_count": 41,
   "id": "c4030db8-9bec-4b01-a384-d1da64771931",
   "metadata": {},
   "outputs": [
    {
     "name": "stdout",
     "output_type": "stream",
     "text": [
      "Woof!\n"
     ]
    }
   ],
   "source": [
    "dog =Dog()\n",
    "dog.make_sound()"
   ]
  },
  {
   "cell_type": "code",
   "execution_count": 45,
   "id": "e2312040-71c5-4df6-9f82-afd7db1fc841",
   "metadata": {},
   "outputs": [
    {
     "name": "stdout",
     "output_type": "stream",
     "text": [
      "Meow!\n"
     ]
    }
   ],
   "source": [
    "cat = Cat()\n",
    "cat.make_sound()"
   ]
  },
  {
   "cell_type": "code",
   "execution_count": null,
   "id": "4092acf9-1f82-45af-9d1f-9cc4d59c3b64",
   "metadata": {},
   "outputs": [],
   "source": []
  }
 ],
 "metadata": {
  "kernelspec": {
   "display_name": "Python 3 (ipykernel)",
   "language": "python",
   "name": "python3"
  },
  "language_info": {
   "codemirror_mode": {
    "name": "ipython",
    "version": 3
   },
   "file_extension": ".py",
   "mimetype": "text/x-python",
   "name": "python",
   "nbconvert_exporter": "python",
   "pygments_lexer": "ipython3",
   "version": "3.11.7"
  }
 },
 "nbformat": 4,
 "nbformat_minor": 5
}
