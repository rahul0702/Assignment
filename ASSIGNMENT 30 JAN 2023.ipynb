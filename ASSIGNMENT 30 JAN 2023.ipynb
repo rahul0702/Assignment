{
 "cells": [
  {
   "cell_type": "markdown",
   "id": "2207e51a-f359-4a9f-a483-54e0eb366ab2",
   "metadata": {},
   "source": [
    "RAHUL SHARMA\n",
    "ASSIGNMENT : 30 JANUARY 2023"
   ]
  },
  {
   "cell_type": "markdown",
   "id": "e5334e64-4396-4e03-8eaf-17bc796e8435",
   "metadata": {},
   "source": [
    "ANSWER 1:"
   ]
  },
  {
   "cell_type": "code",
   "execution_count": 2,
   "id": "5e8eec4b-539e-4d80-9959-446740007d54",
   "metadata": {},
   "outputs": [
    {
     "name": "stdin",
     "output_type": "stream",
     "text": [
      "enter your marks 100\n"
     ]
    },
    {
     "name": "stdout",
     "output_type": "stream",
     "text": [
      "you will be part of A batch\n"
     ]
    }
   ],
   "source": [
    "marks = int(input('enter your marks'))\n",
    "if marks > 90:\n",
    "    print('you will be part of A batch')\n",
    "elif marks > 80 and marks <= 90:\n",
    "    print('you will be a part of B batch')\n",
    "elif marks >= 60 and marks <= 80:\n",
    "    print('you will be a part of C batch')\n",
    "else:\n",
    "    print('you will be a part of D batch')\n",
    "    "
   ]
  },
  {
   "cell_type": "markdown",
   "id": "77e1f95a-74f0-4297-9e11-1b65df94ff76",
   "metadata": {},
   "source": [
    "ANSWER 2 :"
   ]
  },
  {
   "cell_type": "code",
   "execution_count": 3,
   "id": "a7a59d97-0916-402d-889a-0e7e6fd31134",
   "metadata": {},
   "outputs": [
    {
     "name": "stdin",
     "output_type": "stream",
     "text": [
      "enter your price 25000\n"
     ]
    },
    {
     "name": "stdout",
     "output_type": "stream",
     "text": [
      "you have to pay 5% road tax\n"
     ]
    }
   ],
   "source": [
    "price = int(input('enter your price'))\n",
    "if price > 100000:\n",
    "    print('you have to pay 15% road tax')\n",
    "elif price >50000 and marks <= 100000:\n",
    "    print('you have to pay 10% road tax')\n",
    "\n",
    "else:\n",
    "    print('you have to pay 5% road tax')\n",
    "    "
   ]
  },
  {
   "cell_type": "markdown",
   "id": "70223e15-83c1-4268-97d0-f6ce29c7a97d",
   "metadata": {},
   "source": [
    "ANSWER 3:"
   ]
  },
  {
   "cell_type": "code",
   "execution_count": null,
   "id": "52d30e8b-d63f-4fdf-9a17-86b15305d6a6",
   "metadata": {},
   "outputs": [],
   "source": [
    "city = int(input('enter your marks'))\n",
    "if marks > 90:\n",
    "    print('you will be part of A batch')\n",
    "elif marks > 80 and marks <= 90:\n",
    "    print('you will be a part of B batch')\n",
    "elif marks >= 60 and marks <= 80:\n",
    "    print('you will be a part of C batch')\n",
    "else:\n",
    "    print('you will be a part of D batch')"
   ]
  }
 ],
 "metadata": {
  "kernelspec": {
   "display_name": "Python 3 (ipykernel)",
   "language": "python",
   "name": "python3"
  },
  "language_info": {
   "codemirror_mode": {
    "name": "ipython",
    "version": 3
   },
   "file_extension": ".py",
   "mimetype": "text/x-python",
   "name": "python",
   "nbconvert_exporter": "python",
   "pygments_lexer": "ipython3",
   "version": "3.11.7"
  }
 },
 "nbformat": 4,
 "nbformat_minor": 5
}
