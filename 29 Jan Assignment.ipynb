{
 "cells": [
  {
   "cell_type": "markdown",
   "id": "13ecde1d-f937-433b-bcd0-f48b5477b01b",
   "metadata": {},
   "source": [
    "<b>Rahul Sharma;  \n",
    "<b>Assignment: 29/01/2023"
   ]
  },
  {
   "cell_type": "markdown",
   "id": "b0c5f0ff-b0f1-42e6-adfc-9cb0ec2e83fc",
   "metadata": {},
   "source": [
    "***1.***  Guido Van Rossum Developed Python Programming Language."
   ]
  },
  {
   "cell_type": "markdown",
   "id": "0ed44384-ff69-44ce-942e-001764e29c8f",
   "metadata": {},
   "source": [
    "***2.***  Python supports both objective oriented and structured programming."
   ]
  },
  {
   "cell_type": "markdown",
   "id": "33b2dc4b-a57d-4ddb-bcb4-36929ca65497",
   "metadata": {},
   "source": [
    "***3.***  Yes, Python is a case-senstive language when dealing with identifires."
   ]
  },
  {
   "cell_type": "markdown",
   "id": "4747fd03-7d1f-4c24-b636-263c799bfb8c",
   "metadata": {},
   "source": [
    "***4.***  The correct extension of the Python file is (.py)."
   ]
  },
  {
   "cell_type": "markdown",
   "id": "5f0ef160-de9c-4f7c-bedd-e2520e28c2ab",
   "metadata": {},
   "source": [
    "***5.***  Python is a Intepreted language."
   ]
  },
  {
   "cell_type": "markdown",
   "id": "6918e6fa-b389-4679-b296-05ce125ce892",
   "metadata": {},
   "source": [
    "***6.***  Module, Function, Class"
   ]
  },
  {
   "cell_type": "markdown",
   "id": "7303748d-b677-4c4b-8b0c-a5ca2e40ed69",
   "metadata": {},
   "source": [
    "***7.***  For single line comments we can use (#) in Python."
   ]
  },
  {
   "cell_type": "markdown",
   "id": "9ba05997-6cf6-4a9e-9c44-4f7ca971d539",
   "metadata": {},
   "source": [
    "***8.***  To find the python version that we are working on we can use (python_version)in command prompt OR we can use [import sys; print (sys.version)] in Notebook."
   ]
  },
  {
   "cell_type": "markdown",
   "id": "8deb8b0a-24f6-4726-9c1c-aadf36341ee3",
   "metadata": {},
   "source": [
    "***9.*** It is constructed using (lamda) function."
   ]
  },
  {
   "cell_type": "markdown",
   "id": "33b71ba4-bfe1-4fd8-903b-c5acb60745ca",
   "metadata": {},
   "source": [
    "***10.*** PIP stands for 'Performence Improvement Plan'."
   ]
  },
  {
   "cell_type": "markdown",
   "id": "84bf7e34-0954-42b0-bab6-239017308d62",
   "metadata": {},
   "source": [
    "***11.*** Few built in functions in Python:\n",
    "    print(), int(), complex(), bool(), float(), type(), input(), len(), list(), tuple(), set(), range(), min(), max(), count(), sum(), \n",
    "    sort(), short(), reverse(), upper(), lower(), title(), capitlize(), center(), right(), left(), replace(), join(), etc."
   ]
  },
  {
   "cell_type": "markdown",
   "id": "2fb26844-7a03-4881-aec0-2b8e7b8b946f",
   "metadata": {},
   "source": [
    "***12.*** In Python Identifires can have maximum of 79 characters in it."
   ]
  },
  {
   "cell_type": "markdown",
   "id": "33d87e0a-6e9e-44b2-9556-4ebdc60c5bc0",
   "metadata": {},
   "source": [
    "***13.*** Benefits of using Python-\n",
    "\n",
    "  (a) Python is a general purpose programing language.\n",
    "\n",
    "  (b) It is an open source.\n",
    "\n",
    "  (c) It is easy to learn.\n",
    "\n",
    "  (d) It is flexible and use friendly.\n",
    "\n",
    "  (e) Portable language object.\n",
    "\n",
    "  (f) object-oriented and Procedural language.\n",
    "\n",
    "  (g) It have large ammount of predefined libraries for each domain."
   ]
  },
  {
   "cell_type": "markdown",
   "id": "0a286716-7a40-4b40-9b4c-27f1a2965295",
   "metadata": {},
   "source": [
    "***14.*** There is two types of memory management in Python-\n",
    "\n",
    "   (a) Static Memory (Permanent and can't be reused).\n",
    "                     \n",
    "   (b) Dynamic memory (Heap Memory, Allocated when the program is executed).                 "
   ]
  },
  {
   "cell_type": "markdown",
   "id": "53b562d8-5bff-4132-bce2-fa72e19af0ad",
   "metadata": {},
   "source": [
    "***15.***  Steps to install and set path for Python on Windows\n",
    ". Download the python installer\n",
    "\n",
    ". Run the excutable installer\n",
    "\n",
    ". choose the install launcher for all users > customize installation > click all checkbox > next\n",
    "\n",
    ". Advance Option: Check the option > install\n",
    "\n",
    ". Add the path to enviromental variables\n",
    "\n",
    ". Verify the Python installation."
   ]
  },
  {
   "cell_type": "markdown",
   "id": "faf544a9-3d7e-4775-a94d-ccfc6f60c9a5",
   "metadata": {},
   "source": [
    "***16*** Yes, Identation is important in the Python Programming language."
   ]
  },
  {
   "cell_type": "code",
   "execution_count": null,
   "id": "e3e0005d-88bd-4bb8-8875-3d047350d144",
   "metadata": {},
   "outputs": [],
   "source": []
  }
 ],
 "metadata": {
  "kernelspec": {
   "display_name": "Python 3 (ipykernel)",
   "language": "python",
   "name": "python3"
  },
  "language_info": {
   "codemirror_mode": {
    "name": "ipython",
    "version": 3
   },
   "file_extension": ".py",
   "mimetype": "text/x-python",
   "name": "python",
   "nbconvert_exporter": "python",
   "pygments_lexer": "ipython3",
   "version": "3.10.8"
  }
 },
 "nbformat": 4,
 "nbformat_minor": 5
}
