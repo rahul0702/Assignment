{
 "cells": [
  {
   "cell_type": "markdown",
   "id": "3d78cc96-5794-422a-b653-a341b6fb8fcf",
   "metadata": {},
   "source": [
    "RAHUL SHARMA\n",
    "ASSIGNMENT: 4 FEBRUARY 2023"
   ]
  },
  {
   "cell_type": "markdown",
   "id": "9dd187b7-cce7-4f4f-a1c1-2a70bb14eb22",
   "metadata": {},
   "source": [
    "ANSWER 1:"
   ]
  },
  {
   "cell_type": "code",
   "execution_count": 5,
   "id": "bcc7478d-155c-4ca9-a419-ab41ec95db57",
   "metadata": {},
   "outputs": [
    {
     "name": "stdout",
     "output_type": "stream",
     "text": [
      "('Virat Kohli', 24936)\n",
      "('Jack Kallis', 25534)\n",
      "('Ricky Ponting', 27483)\n",
      "('Sachin Tendulkar', 34357)\n"
     ]
    }
   ],
   "source": [
    "l= [('Sachin Tendulkar', 34357), ('Ricky Ponting', 27483), ('Jack Kallis', 25534), ('Virat Kohli', 24936)]\n",
    "\n",
    "sorted_data = sorted(l, key=lambda x: x[1])\n",
    "\n",
    "for item in sorted_data:\n",
    "    print(item)\n"
   ]
  },
  {
   "cell_type": "markdown",
   "id": "223e17ca-39c6-4e3d-b4e8-15a223e91e7c",
   "metadata": {},
   "source": [
    "ANSWER 2 :"
   ]
  },
  {
   "cell_type": "code",
   "execution_count": 6,
   "id": "a22ea7eb-ffa6-4437-8ea6-c9f11c245caf",
   "metadata": {},
   "outputs": [],
   "source": [
    "l = [1, 2, 3, 4, 5, 6, 7, 8, 9, 10]"
   ]
  },
  {
   "cell_type": "code",
   "execution_count": 7,
   "id": "6875224d-2eb7-44f8-8b2a-0974b98e06b6",
   "metadata": {},
   "outputs": [
    {
     "data": {
      "text/plain": [
       "[1, 4, 9, 16, 25, 36, 49, 64, 81, 100]"
      ]
     },
     "execution_count": 7,
     "metadata": {},
     "output_type": "execute_result"
    }
   ],
   "source": [
    "list(map(lambda x: x**2 , l))"
   ]
  },
  {
   "cell_type": "markdown",
   "id": "5fc8337c-c9da-498e-bdb4-ad5e97531bf2",
   "metadata": {},
   "source": [
    "ANSWER 3 :"
   ]
  },
  {
   "cell_type": "code",
   "execution_count": 8,
   "id": "607751d6-6e91-4a79-88d9-5541f6ffdf98",
   "metadata": {},
   "outputs": [],
   "source": [
    "l = [1, 2, 3, 4, 5, 6, 7, 8, 9, 10]"
   ]
  },
  {
   "cell_type": "code",
   "execution_count": 12,
   "id": "71c72cea-e6f8-40cc-997f-1a7d89ebfd0c",
   "metadata": {},
   "outputs": [
    {
     "data": {
      "text/plain": [
       "('1', '2', '3', '4', '5', '6', '7', '8', '9', '10')"
      ]
     },
     "execution_count": 12,
     "metadata": {},
     "output_type": "execute_result"
    }
   ],
   "source": [
    "tuple(map(lambda x : str(x) , l))"
   ]
  },
  {
   "cell_type": "markdown",
   "id": "b67aed37-8db2-4cdf-bd9c-f140c449807d",
   "metadata": {},
   "source": [
    "ANSWER 4 :"
   ]
  },
  {
   "cell_type": "code",
   "execution_count": 14,
   "id": "8262e2c0-8854-4c8c-ab48-0da8ed8124ef",
   "metadata": {},
   "outputs": [],
   "source": [
    "l=[1, 2, 3, 4, 5, 6, 7, 8, 9, 10, 11, 12, 13, 14, 15, 16, 17, 18, 19, 20, 21, 22, 23, 24, 25]"
   ]
  },
  {
   "cell_type": "code",
   "execution_count": 17,
   "id": "42669be6-6109-4805-b893-0390226a0972",
   "metadata": {},
   "outputs": [],
   "source": [
    "from functools import reduce"
   ]
  },
  {
   "cell_type": "code",
   "execution_count": 18,
   "id": "23d5bbaa-52ff-44ee-bedf-8afc17ac4b71",
   "metadata": {},
   "outputs": [
    {
     "data": {
      "text/plain": [
       "15511210043330985984000000"
      ]
     },
     "execution_count": 18,
     "metadata": {},
     "output_type": "execute_result"
    }
   ],
   "source": [
    "reduce(lambda x,y : x*y ,l)"
   ]
  },
  {
   "cell_type": "markdown",
   "id": "a37cce79-6925-4cad-b7ff-0013248ee98c",
   "metadata": {},
   "source": [
    "ANSWER 5:"
   ]
  },
  {
   "cell_type": "code",
   "execution_count": 19,
   "id": "4e166e4d-ee4c-4465-ad56-bcd1a7e471b8",
   "metadata": {},
   "outputs": [],
   "source": [
    "l=[2, 3, 6, 9, 27, 60, 90, 120, 55, 46]"
   ]
  },
  {
   "cell_type": "code",
   "execution_count": 22,
   "id": "dbabff0a-e629-4b60-b752-6dc4e2dcf59e",
   "metadata": {},
   "outputs": [
    {
     "data": {
      "text/plain": [
       "[6, 60, 90, 120]"
      ]
     },
     "execution_count": 22,
     "metadata": {},
     "output_type": "execute_result"
    }
   ],
   "source": [
    "list(filter(lambda x : x%2==0 and x%3==0 , l))"
   ]
  },
  {
   "cell_type": "markdown",
   "id": "14cb3225-c06c-4523-9104-5b37722a0540",
   "metadata": {},
   "source": [
    "ANSWER 6 :"
   ]
  },
  {
   "cell_type": "code",
   "execution_count": 23,
   "id": "865acefc-790d-44a2-9cc4-fb27b9bc7f7c",
   "metadata": {},
   "outputs": [],
   "source": [
    "l=['python', 'php', 'aba', 'radar', 'level']"
   ]
  },
  {
   "cell_type": "code",
   "execution_count": 25,
   "id": "ff89cde5-7ac1-472e-bda9-71e366ac973d",
   "metadata": {},
   "outputs": [
    {
     "data": {
      "text/plain": [
       "['php', 'aba', 'radar', 'level']"
      ]
     },
     "execution_count": 25,
     "metadata": {},
     "output_type": "execute_result"
    }
   ],
   "source": [
    "list(filter(lambda x:x== x[::-1] , l))"
   ]
  },
  {
   "cell_type": "code",
   "execution_count": null,
   "id": "31e10c17-9389-4f2b-b44a-32250ddaa301",
   "metadata": {},
   "outputs": [],
   "source": []
  }
 ],
 "metadata": {
  "kernelspec": {
   "display_name": "Python 3 (ipykernel)",
   "language": "python",
   "name": "python3"
  },
  "language_info": {
   "codemirror_mode": {
    "name": "ipython",
    "version": 3
   },
   "file_extension": ".py",
   "mimetype": "text/x-python",
   "name": "python",
   "nbconvert_exporter": "python",
   "pygments_lexer": "ipython3",
   "version": "3.11.7"
  }
 },
 "nbformat": 4,
 "nbformat_minor": 5
}
